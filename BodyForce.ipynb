{
 "cells": [
  {
   "cell_type": "markdown",
   "metadata": {},
   "source": [
    "#### Thermokinetic lattice Boltzmann model of nonideal fluids\n",
    "\n"
   ]
  },
  {
   "cell_type": "markdown",
   "metadata": {},
   "source": [
    "The collision step is performed employing the Bhatnagar-Gross-Krook (BGK) model including the force that represents the interface dynamics\n",
    "\n",
    "$$f^{*}_{i}(\\mathbf{x},t) = f_i(\\mathbf{x},t) + \\omega [f^{eq} - f_i(\\mathbf{x},t)] + S_i $$\n",
    "\n",
    "where $S_i$ is\n",
    "\n",
    "$$ S_i = \\mathcal{G}_{u + du}^u [\\rho W_i] - \\rho W_i,$$\n",
    "\n",
    "and the change of the local flow velocity $\\mathbf{\\hat{u}}$ due to the force $\\mathbf{F}$ is\n",
    "\n",
    "$$ d\\mathbf{u} = \\frac{\\mathbf{F} \\delta t}{ \\rho}  $$\n",
    "\n",
    "The force $\\mathbf{F}$ is given by\n",
    "\n",
    "$$\\mathbf{F} = \\nabla \\cdot \\mathbf{K}$$\n",
    "\n",
    "where $\\mathbf{K}$ is the Korteweg stress expressed as\n",
    "\n",
    "$$\\mathbf{K} = - \\kappa \\left(\\rho \\nabla \\cdot \\nabla \\rho + \\frac{1}{2}  \\left|\\nabla \\rho \\right|^2  \\right)\\mathbf{I} + \\kappa (\\nabla \\rho) (\\nabla \\rho)$$\n",
    "with $\\kappa$ the surface tension coefficient.\n",
    "\n",
    " Rewriting the Koterweg stress in a explicit form and considering $\\nabla \\cdot \\nabla \\phi =  \\nabla^2 \\phi$, we obtain\n",
    "\n",
    "$$\n",
    "\n",
    "\\mathbf{K} = -\\kappa \\left[ \\rho \\left(\\frac{\\partial^2 \\rho}{\\partial x^2} + \\frac{\\partial^2 \\rho}{\\partial y^2}\\right) + \\frac{1}{2} \\left(\\left(\\frac{\\partial \\rho}{\\partial x}\\right)^2 + \\left(\\frac{\\partial \\rho}{\\partial y} \\right)^2 \\right) \\right] \\mathbf{I} + \\kappa \\begin{bmatrix} \\left(\\frac{\\partial \\rho}{\\partial x}\\right)^2 & \\frac{\\partial \\rho}{\\partial x} \\frac{\\partial \\rho}{\\partial y} \\\\ \\frac{\\partial \\rho}{\\partial x} \\frac{\\partial \\rho}{\\partial y} & \\left(\\frac{\\partial \\rho}{\\partial y}\\right)^2 \\end{bmatrix}\n",
    "\n",
    "$$\n",
    "\n",
    "$$\n",
    "\\mathbf{K} = \\kappa \\left[ \\begin{array}{cc}\n",
    "-\\rho \\left( \\frac{\\partial^2 \\rho}{\\partial x^2} + \\frac{\\partial^2 \\rho}{\\partial y^2} \\right) - \\frac{1}{2} \\left(\\left(\\frac{\\partial \\rho}{\\partial x}\\right)^2 + \\left(\\frac{\\partial \\rho}{\\partial y}\\right)^2\\right) + \\left(\\frac{\\partial \\rho}{\\partial x}\\right)^2 & \\frac{\\partial \\rho}{\\partial x} \\frac{\\partial \\rho}{\\partial y} \\\\\n",
    "\\frac{\\partial \\rho}{\\partial x} \\frac{\\partial \\rho}{\\partial y} & -\\rho \\left( \\frac{\\partial^2 \\rho}{\\partial x^2} + \\frac{\\partial^2 \\rho}{\\partial y^2} \\right) - \\frac{1}{2} \\left(\\left(\\frac{\\partial \\rho}{\\partial x}\\right)^2 + \\left(\\frac{\\partial \\rho}{\\partial y}\\right)^2\\right) + \\left(\\frac{\\partial \\rho}{\\partial y}\\right)^2\n",
    "\\end{array} \\right]\n",
    "$$\n",
    "\n",
    "\n",
    "#### In the following, the gradient and the Laplacian are calculated using central differences\n",
    "\n",
    "For a function $f(x,y)$, the Taylor series expansion arount $x$ is given by\n",
    "\n",
    "$$ f(x+dx,y) = f(x,y) +  dx \\frac{\\partial f}{\\partial x} + \\frac{dx^2}{2} \\frac{\\partial^2 f}{\\partial x^2} + O(dx^2)$$\n",
    "\n",
    "$$ f(x-dx,y) = f(x,y) -  dx \\frac{\\partial f}{\\partial x} + \\frac{dx^2}{2} \\frac{\\partial^2 f}{\\partial x^2} + O(dx^2)$$\n",
    "\n",
    "Substracting these equations\n",
    " \n",
    "$$  f(x+dx,y) - f(x-dx,y)  = 2 dx \\frac{\\partial f}{\\partial x}$$\n",
    "\n",
    "Solving for $\\partial f/\\partial x$\n",
    "\n",
    "$$ \\frac{\\partial f}{\\partial x} = \\frac{f(x+dx,y) - f(x-dx,y)}{2 dx} $$\n",
    "\n",
    "The same procedure is followed for the $y$-coordinate\n",
    "\n",
    "$$ \\frac{\\partial f}{\\partial y} = \\frac{f(x,y+dy) - f(x,y-dy)}{2 dy} $$\n"
   ]
  },
  {
   "cell_type": "code",
   "execution_count": null,
   "metadata": {},
   "outputs": [],
   "source": [
    "#Gradient with PBC\n",
    "def gradient(field,dx,dy):\n",
    "    gradient_x = np.zeros_like(field)\n",
    "    gradient_y = np.zeros_like(field)\n",
    "    for i in range(lx):\n",
    "        gradient_x[i,:] = (field[(i+dx)%lx,:] - field[(i-dx)%lx,:])/(2*dx)\n",
    "    for j in range(ly):\n",
    "        gradient_y[:,j]  = (field[:,(j+dy)%ly] - field[:,(j-dy)%ly])/(2*dy)\n",
    "    return gradient_x,gradient_y"
   ]
  },
  {
   "cell_type": "markdown",
   "metadata": {},
   "source": [
    "\n",
    "#### Laplacian using central differences\n",
    "\n",
    "The Taylor series expansion around $x$ is given by\n",
    "\n",
    "$$ f(x+dx,y) = f(x,y) +  dx \\frac{\\partial f}{\\partial x} + \\frac{dx^2}{2} \\frac{\\partial^2 f}{\\partial x^2} + O(dx^2)$$\n",
    "\n",
    "$$ f(x-dx,y) = f(x,y) -  dx \\frac{\\partial f}{\\partial x} + \\frac{dx^2}{2} \\frac{\\partial^2 f}{\\partial x^2} + O(dx^2)$$\n",
    "\n",
    "adding these equations\n",
    "\n",
    "$$ f(x+dx,y) + f(x-dx,y) = 2f(x,y) + dx^2 \\frac{\\partial^2 f}{\\partial x^2} + O(h^4)$$\n",
    "\n",
    "Solving for $\\partial^2 f/\\partial x^2$\n",
    "$$\\frac{\\partial^2 f}{\\partial x^2} = \\frac{f(x+dx,y) + f(x-dx,y)- 2f(x,y) }{dx^2}$$\n",
    "\n",
    "The same procedure is followed for the $y$-coordinate\n",
    "\n",
    "$$\\frac{\\partial^2 f}{\\partial y^2} = \\frac{f(x,y+dy) + f(x,y-dy)- 2f(x,y) }{dy^2}$$\n"
   ]
  },
  {
   "cell_type": "code",
   "execution_count": null,
   "metadata": {},
   "outputs": [],
   "source": [
    "#Laplacian with PBC\n",
    "def laplacian(field,dx,dy):\n",
    "    laplacian_x = np.zeros_like(field)\n",
    "    laplacian_y = np.zeros_like(field)\n",
    "    for i in range(lx):\n",
    "        laplacian_x[i,:] = (field[(i+dx)%lx,:] + field[(i-dx)%lx,:] - 2*field[i,:])/(dx**2)\n",
    "    for j in range(ly):\n",
    "        laplacian_y[:,j] = (field[:,(j+dy)%ly] + field[:,(j-dy)%ly] - 2*field[:,j])/(dy**2)\n",
    "    return laplacian_x,laplacian_y"
   ]
  },
  {
   "cell_type": "markdown",
   "metadata": {},
   "source": [
    "The explicit form of the Koterweg stress is\n",
    "\n",
    "$$\n",
    "\\mathbf{K} = \\kappa \\left[ \\begin{array}{cc}\n",
    "-\\rho \\left( \\frac{\\partial^2 \\rho}{\\partial x^2} + \\frac{\\partial^2 \\rho}{\\partial y^2} \\right) - \\frac{1}{2} \\left(\\left(\\frac{\\partial \\rho}{\\partial x}\\right)^2 + \\left(\\frac{\\partial \\rho}{\\partial y}\\right)^2\\right) + \\left(\\frac{\\partial \\rho}{\\partial x}\\right)^2 & \\frac{\\partial \\rho}{\\partial x} \\frac{\\partial \\rho}{\\partial y} \\\\\n",
    "\\frac{\\partial \\rho}{\\partial x} \\frac{\\partial \\rho}{\\partial y} & -\\rho \\left( \\frac{\\partial^2 \\rho}{\\partial x^2} + \\frac{\\partial^2 \\rho}{\\partial y^2} \\right) - \\frac{1}{2} \\left(\\left(\\frac{\\partial \\rho}{\\partial x}\\right)^2 + \\left(\\frac{\\partial \\rho}{\\partial y}\\right)^2\\right) + \\left(\\frac{\\partial \\rho}{\\partial y}\\right)^2\n",
    "\\end{array} \\right]\n",
    "$$\n",
    "\n",
    "Note that $\\mathbf{K}$ is a tensor of rank 2. "
   ]
  },
  {
   "cell_type": "code",
   "execution_count": 1,
   "metadata": {},
   "outputs": [],
   "source": [
    "def Koterweg_stress(rho,dx,dy,kappa):\n",
    "    \n",
    "    grad_rho_x,grad_rho_y = gradient(rho,dx,dy)\n",
    "    lap_rho_x,lap_rho_y   = laplacian(rho,dx,dy)\n",
    "\n",
    "    Kxx = -rho*(lap_rho_x + lap_rho_y) - (1./2.)*np.abs(grad_rho_x**2 + grad_rho_y**2) + grad_rho_x**2\n",
    "    Kxy = grad_rho_x*grad_rho_y\n",
    "    Kyx = grad_rho_x*grad_rho_y\n",
    "    Kyy = -rho*(lap_rho_x + lap_rho_y) - (1./2.)*np.abs(grad_rho_x**2 + grad_rho_y**2) + grad_rho_y**2\n",
    "    K   = kappa * np.array([[Kxx, Kxy],\n",
    "                           [Kyx, Kyy]])\n",
    "    return K\n"
   ]
  },
  {
   "cell_type": "markdown",
   "metadata": {},
   "source": [
    "Then the vector $\\mathbf{F} = \\nabla \\cdot \\mathbf{K}$ "
   ]
  },
  {
   "cell_type": "markdown",
   "metadata": {},
   "source": [
    "$$\n",
    "\\mathbf{F}_x = \\frac{\\partial}{\\partial x} \\left( -\\rho \\left( \\frac{\\partial^2 \\rho}{\\partial x^2} + \\frac{\\partial^2 \\rho}{\\partial y^2} \\right) - \\frac{1}{2} \\left(\\left(\\frac{\\partial \\rho}{\\partial x}\\right)^2 + \\left(\\frac{\\partial \\rho}{\\partial y}\\right)^2\\right) + \\left(\\frac{\\partial \\rho}{\\partial x}\\right)^2 \\right) + \\frac{\\partial}{\\partial y} \\left( \\frac{\\partial \\rho}{\\partial x} \\frac{\\partial \\rho}{\\partial y} \\right)\n",
    "$$\n",
    "\n",
    "$$\n",
    "\\mathbf{F}_y = \\frac{\\partial}{\\partial x}\\left(\\frac{\\partial \\rho}{\\partial x} \\frac{\\partial \\rho}{\\partial y}\\right) + \\frac{\\partial}{\\partial y}\\left(-\\rho \\left( \\frac{\\partial^2 \\rho}{\\partial x^2} + \\frac{\\partial^2 \\rho}{\\partial y^2} \\right) - \\frac{1}{2} \\left(\\left(\\frac{\\partial \\rho}{\\partial x}\\right)^2 + \\left(\\frac{\\partial \\rho}{\\partial y}\\right)^2\\right) + \\left(\\frac{\\partial \\rho}{\\partial y}\\right)^2\\right)\n",
    "$$"
   ]
  },
  {
   "cell_type": "code",
   "execution_count": null,
   "metadata": {},
   "outputs": [],
   "source": [
    "K = Koterweg_stress(rho,dx,dy,kappa)\n",
    "\n",
    "def divergence(field_x,field_y,dx,dy):\n",
    "    div_x = np.zeros_like(field)\n",
    "    div_y = np.zeros_like(field)\n",
    "    for i in range(lx):\n",
    "        div_x[i,:] = (field_x[(i+1)%lx,:] - field_x[(i-1)%lx,:])/(2*dx)\n",
    "    for j in range(ly):\n",
    "        div_y[:,j] = (field_y[:,(j+1)%ly] - field_y[:,(j-1)%ly])/(2*dy)\n",
    "    return div_x + div_y\n",
    "\n",
    "def body_force(K,dx,dy):\n",
    "    Fx = divergence(K[0,0,:,:],K[1,0,:,:],dx,dy)\n",
    "    Fy = divergence(K[0,1,:,:],K[1,1,:,:],dx,dy)\n",
    "    return Fx,Fy"
   ]
  },
  {
   "cell_type": "markdown",
   "metadata": {},
   "source": [
    "The particle velocities are defined as\n",
    "\n",
    "$$ \\mathbf{v}_i = \\sqrt{\\theta} \\mathbf{c}_i + \\mathbf{u}$$\n",
    "\n",
    "\n",
    "where $\\theta = T/T_L$ is the reduced temperature, with $T_L$ being the lattice temperature. After defyning the frame velocity and temperature, the referece frame $\\lambda = {\\mathbf{u},T}$ is defined for the discrete velocities. \n",
    "\n",
    "The vector of population $f^\\lambda$ is defined relative to the referece frame $\\lambda$.\n",
    "Transforming $f^\\lambda$ to another reference frame $\\lambda^{'} = (\\mathbf{u}',T')$ involves matiching  matching $\\mathcal{Q}$ linearly independent moments \n",
    "\n",
    "$$ M_{m,n}^{\\lambda} = \\sum_{i=1}^{Q} f_i^{\\lambda} (\\sqrt(\\theta) c_{ix} + u_x )^{m} (\\sqrt(\\theta) c_{iy} + u_y )^{n} $$\n",
    "\n",
    "Rewriting $M_{m,n}^{\\lambda}$, we obtain\n",
    "\n",
    "$$  M^{\\lambda} = \\mathcal{M}_\\lambda f^\\lambda  $$\n",
    "\n",
    "with $  \\mathcal{M}_\\lambda$ is the $Q \\times Q$ matrix of the linear map. The matching condition for the moments in both gauges $\\lambda$ and $\\lambda^{'}$ is \n",
    "\n",
    "$$ M^{\\lambda} = M^{\\lambda^{'}}  $$\n",
    "\n",
    "$$ \\mathcal{M}_\\lambda f^\\lambda = \\mathcal{M}_{\\lambda^{'}} f^{\\lambda^{'}} $$\n",
    "\n",
    "$$ f^\\lambda = \\mathcal{M}_\\lambda^{-1} \\mathcal{M}_{\\lambda^{'}} f^{\\lambda^{'}}  $$\n",
    "\n",
    "We can denoted this transformation using the matrix $\\mathcal{G}^{\\lambda^{'}}_{\\lambda} $\n",
    "\n",
    "$$ f^\\lambda = \\mathcal{G}^{\\lambda^{'}}_{\\lambda} f^{\\lambda^{'}} $$\n",
    "\n",
    "Here, $\\mathcal{G}^{\\lambda^{'}}_{\\lambda} $ represents the transformation matrix."
   ]
  },
  {
   "cell_type": "code",
   "execution_count": null,
   "metadata": {},
   "outputs": [],
   "source": [
    "def Transfer_Matrix_vec(u,u_p,c,theta, Q, lx, ly):\n",
    "\n",
    "    pow_x = [0, 1, 0, 1, 2, 0, 2, 1, 2]\n",
    "    pow_y = [0, 0, 1, 1, 0, 2, 1, 2, 2]\n",
    "\n",
    "    Mmn   = np.zeros((lx,ly,Q,Q))\n",
    "    Mmn_p = np.zeros((lx,ly,Q,Q))\n",
    "\n",
    "    v   = np.sqrt(theta)[..., np.newaxis, np.newaxis] * c[np.newaxis, np.newaxis, :, :] + u[:, :, np.newaxis, :]\n",
    "    v_p = np.sqrt(theta_p)[..., np.newaxis, np.newaxis] * c[np.newaxis, np.newaxis, :, :] + u_p[:, :, np.newaxis, :]\n",
    "\n",
    "    for j in range(Q):\n",
    "        for i in range(Q):\n",
    "            Mmn[:,:,i,j]   = (v[:,:,j,0]**pow_x[i])*(v[:,:,j,1]**pow_y[i])\n",
    "            Mmn_p[:,:,i,j] = (v_p[:,:,j,0]**pow_x[i])*(v_p[:,:,j,1]**pow_y[i])\n",
    "\n",
    "    M_mn_inv = np.linalg.inv(Mmn_p)\n",
    "    G = np.matmul(M_mn_inv, Mmn)\n",
    "\n",
    "    return G"
   ]
  },
  {
   "cell_type": "markdown",
   "metadata": {},
   "source": [
    "Recall the force term as defined by the equation\n",
    "\n",
    "$$ S_i = \\mathcal{G}_{u + du}^u [\\rho W_i] - \\rho W_i,$$\n",
    "\n",
    "where $\\mathcal{G}_{u + du}^u$ is the transformation matrix defined earlier"
   ]
  },
  {
   "cell_type": "code",
   "execution_count": null,
   "metadata": {},
   "outputs": [],
   "source": [
    "def collision(f, feq, rho,rho_p, u,T,P, dt, mu, dx, dy, kappa, c, theta, theta_p, Q, lx, ly, gn):\n",
    "\n",
    "    feqG     = np.zeros((lx,ly,Q))\n",
    "    feqG_hat = np.zeros((lx,ly,Q))\n",
    "    wrho     = np.zeros((lx, ly, Q))\n",
    "    wrho_p   = np.zeros((lx, ly, Q))\n",
    "\n",
    "\n",
    "    #beta         = (T * dt) / ((2 * nu) + (T * dt))\n",
    "    omega        = ((2 * P[:, :, np.newaxis] * dt) / ((2 * mu) + (P[:, :, np.newaxis] * dt))) \n",
    "    K            = Koterweg_stress(rho, dx, dy, kappa)\n",
    "    Fx, Fy       = body_force(K, dx, dy)\n",
    "    F            = -np.stack((Fy, Fx), axis=2)\n",
    "    u_hat        = u + ((F  / (rho[:, :, np.newaxis]))*dt)\n",
    "    TransfMatrix = Transfer_Matrix_vec(u_hat,u,c,theta, Q, lx, ly)\n",
    "\n",
    "    \n",
    "    for k in range(Q):\n",
    "        wrho[:,:,k] = w[k]*rho\n",
    "\n",
    "    for j in range(ly):\n",
    "        for i in range(lx):\n",
    "            feqG[i,j,:]     = np.dot(TransfMatrix[i,j,:,:],feq[i,j,:])\n",
    "\n",
    "    S_i     = feqG - wrho\n",
    "\n",
    "    return f + ( omega * (feq - f)) + S_i\n"
   ]
  }
 ],
 "metadata": {
  "kernelspec": {
   "display_name": "Python 3",
   "language": "python",
   "name": "python3"
  },
  "language_info": {
   "codemirror_mode": {
    "name": "ipython",
    "version": 3
   },
   "file_extension": ".py",
   "mimetype": "text/x-python",
   "name": "python",
   "nbconvert_exporter": "python",
   "pygments_lexer": "ipython3",
   "version": "3.8.10"
  }
 },
 "nbformat": 4,
 "nbformat_minor": 2
}
